{
 "cells": [
  {
   "cell_type": "code",
   "execution_count": 6,
   "metadata": {},
   "outputs": [],
   "source": [
    "# Whenever using external files along with Ipython use autoreload. \n",
    "# It will reload the external files every time before executing any code in IPython.\n",
    "%load_ext autoreload\n",
    "%autoreload 2"
   ]
  },
  {
   "cell_type": "markdown",
   "metadata": {},
   "source": [
    "## Numerical Derivative"
   ]
  },
  {
   "cell_type": "code",
   "execution_count": 2,
   "metadata": {},
   "outputs": [],
   "source": [
    "import math\n",
    "import numpy as np\n",
    "import matplotlib.pyplot as plt\n",
    "%matplotlib inline"
   ]
  },
  {
   "cell_type": "code",
   "execution_count": 3,
   "metadata": {},
   "outputs": [
    {
     "data": {
      "text/plain": [
       "20"
      ]
     },
     "execution_count": 3,
     "metadata": {},
     "output_type": "execute_result"
    }
   ],
   "source": [
    "def f(x):\n",
    "    return 3*x**2 - 4*x + 5\n",
    "\n",
    "f(3)"
   ]
  },
  {
   "cell_type": "code",
   "execution_count": 4,
   "metadata": {},
   "outputs": [
    {
     "data": {
      "text/plain": [
       "[<matplotlib.lines.Line2D at 0x7fb1970322b0>]"
      ]
     },
     "execution_count": 4,
     "metadata": {},
     "output_type": "execute_result"
    },
    {
     "data": {
      "image/png": "[encoded data removed]",
      "text/plain": [
       "<Figure size 432x288 with 1 Axes>"
      ]
     },
     "metadata": {
      "needs_background": "light"
     },
     "output_type": "display_data"
    }
   ],
   "source": [
    "xs = np.arange(-5, 5, 0.25)\n",
    "ys = f(xs)\n",
    "plt.plot(xs, ys)"
   ]
  },
  {
   "cell_type": "code",
   "execution_count": 5,
   "metadata": {},
   "outputs": [
    {
     "data": {
      "text/plain": [
       "7.999999951380232"
      ]
     },
     "execution_count": 5,
     "metadata": {},
     "output_type": "execute_result"
    }
   ],
   "source": [
    "h = 0.00000001\n",
    "x = 2\n",
    "(f(x+h) - f(x)) / h"
   ]
  },
  {
   "cell_type": "markdown",
   "metadata": {},
   "source": [
    "## Value Class"
   ]
  },
  {
   "cell_type": "code",
   "execution_count": 2,
   "metadata": {},
   "outputs": [
    {
     "name": "stdout",
     "output_type": "stream",
     "text": [
      "chilren:{Value(data=10.0, grad=0), Value(data=-6.0, grad=0)}, operation:+\n"
     ]
    }
   ],
   "source": [
    "from micrograd import engine\n",
    "\n",
    "a = engine.Value(2.0, label='a')\n",
    "b = engine.Value(-3.0, label='b')\n",
    "c = engine.Value(10.0, label='c')\n",
    "e = a*b; e.label = 'e'\n",
    "d = e+c; d.label = 'd'\n",
    "f = engine.Value(-2.0, label='f')\n",
    "L = d*f; L.label = 'L'\n",
    "# (a.__mul__(b)).__add__(c)\n",
    "# a*b+c\n",
    "\n",
    "print(f'chilren:{d._prev}, operation:{d._op}')"
   ]
  },
  {
   "cell_type": "code",
   "execution_count": 3,
   "metadata": {},
   "outputs": [],
   "source": [
    "# VISUALISATION\n",
    "from graphviz import Digraph\n",
    "\n",
    "def trace(root):\n",
    "    nodes, edges = set(), set()\n",
    "    def build(v):\n",
    "        if v not in nodes:\n",
    "            nodes.add(v)\n",
    "            for child in v._prev:\n",
    "                edges.add((child, v))\n",
    "                build(child)\n",
    "    build(root)\n",
    "    return nodes, edges\n",
    "\n",
    "def draw_dot(root, format='svg', rankdir='LR'):\n",
    "    \"\"\"\n",
    "    format: png | svg | ...\n",
    "    rankdir: TB (top to bottom graph) | LR (left to right)\n",
    "    \"\"\"\n",
    "    assert rankdir in ['LR', 'TB']\n",
    "    nodes, edges = trace(root)\n",
    "    dot = Digraph(format=format, graph_attr={'rankdir': rankdir}) #, node_attr={'rankdir': 'TB'})\n",
    "    \n",
    "    for n in nodes:\n",
    "        dot.node(name=str(id(n)), label = \"{ %s | data %.4f | grad %.4f }\" % (n.label, n.data, n.grad), shape='record')\n",
    "        if n._op:\n",
    "            dot.node(name=str(id(n)) + n._op, label=n._op)\n",
    "            dot.edge(str(id(n)) + n._op, str(id(n)))\n",
    "    \n",
    "    for n1, n2 in edges:\n",
    "        dot.edge(str(id(n1)), str(id(n2)) + n2._op)\n",
    "    \n",
    "    return dot"
   ]
  },
  {
   "cell_type": "code",
   "execution_count": 10,
   "metadata": {},
   "outputs": [
    {
     "data": {
      "image/svg+xml": "<?xml version=\"1.0\" encoding=\"UTF-8\" standalone=\"no\"?>\n<!DOCTYPE svg PUBLIC \"-//W3C//DTD SVG 1.1//EN\"\n \"http://www.w3.org/Graphics/SVG/1.1/DTD/svg11.dtd\">\n<!-- Generated by graphviz version 2.43.0 (0)\n -->\n<!-- Title: %3 Pages: 1 -->\n<svg width=\"1343pt\" height=\"128pt\"\n viewBox=\"0.00 0.00 1343.00 128.00\" xmlns=\"http://www.w3.org/2000/svg\" xmlns:xlink=\"http://www.w3.org/1999/xlink\">\n<g id=\"graph0\" class=\"graph\" transform=\"scale(1 1) rotate(0) translate(4 124)\">\n<title>%3</title>\n<polygon fill=\"white\" stroke=\"transparent\" points=\"-4,4 -4,-124 1339,-124 1339,4 -4,4\"/>\n<!-- 140400719179296 -->\n<g id=\"node1\" class=\"node\">\n<title>140400719179296</title>\n<polygon fill=\"none\" stroke=\"black\" points=\"367,-83.5 367,-119.5 610,-119.5 610,-83.5 367,-83.5\"/>\n<text text-anchor=\"middle\" x=\"379\" y=\"-97.8\" font-family=\"Times,serif\" font-size=\"14.00\">c</text>\n<polyline fill=\"none\" stroke=\"black\" points=\"391,-83.5 391,-119.5 \"/>\n<text text-anchor=\"middle\" x=\"446.5\" y=\"-97.8\" font-family=\"Times,serif\" font-size=\"14.00\">data 10.0000</text>\n<polyline fill=\"none\" stroke=\"black\" points=\"502,-83.5 502,-119.5 \"/>\n<text text-anchor=\"middle\" x=\"556\" y=\"-97.8\" font-family=\"Times,serif\" font-size=\"14.00\">grad &#45;2.0000</text>\n</g>\n<!-- 140400718725376+ -->\n<g id=\"node8\" class=\"node\">\n<title>140400718725376+</title>\n<ellipse fill=\"none\" stroke=\"black\" cx=\"673\" cy=\"-73.5\" rx=\"27\" ry=\"18\"/>\n<text text-anchor=\"middle\" x=\"673\" y=\"-69.8\" font-family=\"Times,serif\" font-size=\"14.00\">+</text>\n</g>\n<!-- 140400719179296&#45;&gt;140400718725376+ -->\n<g id=\"edge7\" class=\"edge\">\n<title>140400719179296&#45;&gt;140400718725376+</title>\n<path fill=\"none\" stroke=\"black\" d=\"M606.89,-83.49C617.53,-81.86 627.65,-80.3 636.61,-78.93\"/>\n<polygon fill=\"black\" stroke=\"black\" points=\"637.2,-82.38 646.55,-77.4 636.14,-75.46 637.2,-82.38\"/>\n</g>\n<!-- 140400719178816 -->\n<g id=\"node2\" class=\"node\">\n<title>140400719178816</title>\n<polygon fill=\"none\" stroke=\"black\" points=\"368.5,-28.5 368.5,-64.5 608.5,-64.5 608.5,-28.5 368.5,-28.5\"/>\n<text text-anchor=\"middle\" x=\"381\" y=\"-42.8\" font-family=\"Times,serif\" font-size=\"14.00\">e</text>\n<polyline fill=\"none\" stroke=\"black\" points=\"393.5,-28.5 393.5,-64.5 \"/>\n<text text-anchor=\"middle\" x=\"447\" y=\"-42.8\" font-family=\"Times,serif\" font-size=\"14.00\">data &#45;6.0000</text>\n<polyline fill=\"none\" stroke=\"black\" points=\"500.5,-28.5 500.5,-64.5 \"/>\n<text text-anchor=\"middle\" x=\"554.5\" y=\"-42.8\" font-family=\"Times,serif\" font-size=\"14.00\">grad &#45;2.0000</text>\n</g>\n<!-- 140400719178816&#45;&gt;140400718725376+ -->\n<g id=\"edge9\" class=\"edge\">\n<title>140400719178816&#45;&gt;140400718725376+</title>\n<path fill=\"none\" stroke=\"black\" d=\"M608.68,-64.13C618.57,-65.6 627.98,-66.99 636.37,-68.23\"/>\n<polygon fill=\"black\" stroke=\"black\" points=\"636.02,-71.71 646.42,-69.72 637.04,-64.79 636.02,-71.71\"/>\n</g>\n<!-- 140400719178816* -->\n<g id=\"node3\" class=\"node\">\n<title>140400719178816*</title>\n<ellipse fill=\"none\" stroke=\"black\" cx=\"304\" cy=\"-46.5\" rx=\"27\" ry=\"18\"/>\n<text text-anchor=\"middle\" x=\"304\" y=\"-42.8\" font-family=\"Times,serif\" font-size=\"14.00\">*</text>\n</g>\n<!-- 140400719178816*&#45;&gt;140400719178816 -->\n<g id=\"edge1\" class=\"edge\">\n<title>140400719178816*&#45;&gt;140400719178816</title>\n<path fill=\"none\" stroke=\"black\" d=\"M331.15,-46.5C338.98,-46.5 348.16,-46.5 358.06,-46.5\"/>\n<polygon fill=\"black\" stroke=\"black\" points=\"358.19,-50 368.19,-46.5 358.19,-43 358.19,-50\"/>\n</g>\n<!-- 140400719178960 -->\n<g id=\"node4\" class=\"node\">\n<title>140400719178960</title>\n<polygon fill=\"none\" stroke=\"black\" points=\"5,-56.5 5,-92.5 236,-92.5 236,-56.5 5,-56.5\"/>\n<text text-anchor=\"middle\" x=\"17.5\" y=\"-70.8\" font-family=\"Times,serif\" font-size=\"14.00\">a</text>\n<polyline fill=\"none\" stroke=\"black\" points=\"30,-56.5 30,-92.5 \"/>\n<text text-anchor=\"middle\" x=\"81\" y=\"-70.8\" font-family=\"Times,serif\" font-size=\"14.00\">data 2.0000</text>\n<polyline fill=\"none\" stroke=\"black\" points=\"132,-56.5 132,-92.5 \"/>\n<text text-anchor=\"middle\" x=\"184\" y=\"-70.8\" font-family=\"Times,serif\" font-size=\"14.00\">grad 6.0000</text>\n</g>\n<!-- 140400719178960&#45;&gt;140400719178816* -->\n<g id=\"edge8\" class=\"edge\">\n<title>140400719178960&#45;&gt;140400719178816*</title>\n<path fill=\"none\" stroke=\"black\" d=\"M236.19,-56.81C247.37,-55.08 258.02,-53.44 267.41,-51.99\"/>\n<polygon fill=\"black\" stroke=\"black\" points=\"268.08,-55.43 277.43,-50.44 267.01,-48.51 268.08,-55.43\"/>\n</g>\n<!-- 140400718725328 -->\n<g id=\"node5\" class=\"node\">\n<title>140400718725328</title>\n<polygon fill=\"none\" stroke=\"black\" points=\"1098,-27.5 1098,-63.5 1335,-63.5 1335,-27.5 1098,-27.5\"/>\n<text text-anchor=\"middle\" x=\"1111\" y=\"-41.8\" font-family=\"Times,serif\" font-size=\"14.00\">L</text>\n<polyline fill=\"none\" stroke=\"black\" points=\"1124,-27.5 1124,-63.5 \"/>\n<text text-anchor=\"middle\" x=\"1177.5\" y=\"-41.8\" font-family=\"Times,serif\" font-size=\"14.00\">data &#45;8.0000</text>\n<polyline fill=\"none\" stroke=\"black\" points=\"1231,-27.5 1231,-63.5 \"/>\n<text text-anchor=\"middle\" x=\"1283\" y=\"-41.8\" font-family=\"Times,serif\" font-size=\"14.00\">grad 1.0000</text>\n</g>\n<!-- 140400718725328* -->\n<g id=\"node6\" class=\"node\">\n<title>140400718725328*</title>\n<ellipse fill=\"none\" stroke=\"black\" cx=\"1035\" cy=\"-45.5\" rx=\"27\" ry=\"18\"/>\n<text text-anchor=\"middle\" x=\"1035\" y=\"-41.8\" font-family=\"Times,serif\" font-size=\"14.00\">*</text>\n</g>\n<!-- 140400718725328*&#45;&gt;140400718725328 -->\n<g id=\"edge2\" class=\"edge\">\n<title>140400718725328*&#45;&gt;140400718725328</title>\n<path fill=\"none\" stroke=\"black\" d=\"M1062.1,-45.5C1069.61,-45.5 1078.33,-45.5 1087.75,-45.5\"/>\n<polygon fill=\"black\" stroke=\"black\" points=\"1087.78,-49 1097.78,-45.5 1087.78,-42 1087.78,-49\"/>\n</g>\n<!-- 140400718725376 -->\n<g id=\"node7\" class=\"node\">\n<title>140400718725376</title>\n<polygon fill=\"none\" stroke=\"black\" points=\"736,-55.5 736,-91.5 972,-91.5 972,-55.5 736,-55.5\"/>\n<text text-anchor=\"middle\" x=\"749\" y=\"-69.8\" font-family=\"Times,serif\" font-size=\"14.00\">d</text>\n<polyline fill=\"none\" stroke=\"black\" points=\"762,-55.5 762,-91.5 \"/>\n<text text-anchor=\"middle\" x=\"813\" y=\"-69.8\" font-family=\"Times,serif\" font-size=\"14.00\">data 4.0000</text>\n<polyline fill=\"none\" stroke=\"black\" points=\"864,-55.5 864,-91.5 \"/>\n<text text-anchor=\"middle\" x=\"918\" y=\"-69.8\" font-family=\"Times,serif\" font-size=\"14.00\">grad &#45;2.0000</text>\n</g>\n<!-- 140400718725376&#45;&gt;140400718725328* -->\n<g id=\"edge5\" class=\"edge\">\n<title>140400718725376&#45;&gt;140400718725328*</title>\n<path fill=\"none\" stroke=\"black\" d=\"M970.13,-55.49C980.27,-53.91 989.92,-52.4 998.51,-51.05\"/>\n<polygon fill=\"black\" stroke=\"black\" points=\"999.09,-54.5 1008.43,-49.5 998.01,-47.59 999.09,-54.5\"/>\n</g>\n<!-- 140400718725376+&#45;&gt;140400718725376 -->\n<g id=\"edge3\" class=\"edge\">\n<title>140400718725376+&#45;&gt;140400718725376</title>\n<path fill=\"none\" stroke=\"black\" d=\"M700.03,-73.5C707.58,-73.5 716.38,-73.5 725.87,-73.5\"/>\n<polygon fill=\"black\" stroke=\"black\" points=\"725.99,-77 735.99,-73.5 725.99,-70 725.99,-77\"/>\n</g>\n<!-- 140400718725424 -->\n<g id=\"node9\" class=\"node\">\n<title>140400718725424</title>\n<polygon fill=\"none\" stroke=\"black\" points=\"737.5,-0.5 737.5,-36.5 970.5,-36.5 970.5,-0.5 737.5,-0.5\"/>\n<text text-anchor=\"middle\" x=\"748.5\" y=\"-14.8\" font-family=\"Times,serif\" font-size=\"14.00\">f</text>\n<polyline fill=\"none\" stroke=\"black\" points=\"759.5,-0.5 759.5,-36.5 \"/>\n<text text-anchor=\"middle\" x=\"813\" y=\"-14.8\" font-family=\"Times,serif\" font-size=\"14.00\">data &#45;2.0000</text>\n<polyline fill=\"none\" stroke=\"black\" points=\"866.5,-0.5 866.5,-36.5 \"/>\n<text text-anchor=\"middle\" x=\"918.5\" y=\"-14.8\" font-family=\"Times,serif\" font-size=\"14.00\">grad 4.0000</text>\n</g>\n<!-- 140400718725424&#45;&gt;140400718725328* -->\n<g id=\"edge6\" class=\"edge\">\n<title>140400718725424&#45;&gt;140400718725328*</title>\n<path fill=\"none\" stroke=\"black\" d=\"M970.64,-35.94C980.5,-37.43 989.9,-38.85 998.29,-40.11\"/>\n<polygon fill=\"black\" stroke=\"black\" points=\"997.94,-43.6 1008.35,-41.63 998.98,-36.68 997.94,-43.6\"/>\n</g>\n<!-- 140400719179104 -->\n<g id=\"node10\" class=\"node\">\n<title>140400719179104</title>\n<polygon fill=\"none\" stroke=\"black\" points=\"0,-1.5 0,-37.5 241,-37.5 241,-1.5 0,-1.5\"/>\n<text text-anchor=\"middle\" x=\"13\" y=\"-15.8\" font-family=\"Times,serif\" font-size=\"14.00\">b</text>\n<polyline fill=\"none\" stroke=\"black\" points=\"26,-1.5 26,-37.5 \"/>\n<text text-anchor=\"middle\" x=\"79.5\" y=\"-15.8\" font-family=\"Times,serif\" font-size=\"14.00\">data &#45;3.0000</text>\n<polyline fill=\"none\" stroke=\"black\" points=\"133,-1.5 133,-37.5 \"/>\n<text text-anchor=\"middle\" x=\"187\" y=\"-15.8\" font-family=\"Times,serif\" font-size=\"14.00\">grad &#45;4.0000</text>\n</g>\n<!-- 140400719179104&#45;&gt;140400719178816* -->\n<g id=\"edge4\" class=\"edge\">\n<title>140400719179104&#45;&gt;140400719178816*</title>\n<path fill=\"none\" stroke=\"black\" d=\"M241.05,-37.28C250.46,-38.68 259.41,-40.02 267.44,-41.21\"/>\n<polygon fill=\"black\" stroke=\"black\" points=\"267.01,-44.68 277.41,-42.69 268.04,-37.76 267.01,-44.68\"/>\n</g>\n</g>\n</svg>\n",
      "text/plain": [
       "<graphviz.graphs.Digraph at 0x7fb196fe2b50>"
      ]
     },
     "execution_count": 10,
     "metadata": {},
     "output_type": "execute_result"
    }
   ],
   "source": [
    "draw_dot(L)"
   ]
  },
  {
   "cell_type": "code",
   "execution_count": 9,
   "metadata": {},
   "outputs": [],
   "source": [
    "# MANUAL BACKPROPAGATION\n",
    "\n",
    "L.grad = 1.0\n",
    "f.grad = 4.0\n",
    "d.grad = -2.0\n",
    "\n",
    "# CHAIN RULE:\n",
    "# dL/dc = dL/dd * dd/dc\n",
    "c.grad = d.grad * 1.0\n",
    "# dL/de = dL/dd * dd/de\n",
    "e.grad = d.grad * 1.0\n",
    "\n",
    "# dL/db = dL/de * de/db\n",
    "b.grad = e.grad * a.data\n",
    "# dL/da = dL/de * de/da\n",
    "a.grad = e.grad * b.data\n"
   ]
  },
  {
   "cell_type": "code",
   "execution_count": 18,
   "metadata": {},
   "outputs": [
    {
     "name": "stdout",
     "output_type": "stream",
     "text": [
      "-4.000000000026205\n"
     ]
    }
   ],
   "source": [
    "def grad_check_with_numerical_derivative():\n",
    "    h = 0.00001\n",
    "\n",
    "    a = engine.Value(2.0, label='a')\n",
    "    b = engine.Value(-3.0, label='b')\n",
    "    c = engine.Value(10.0, label='c')\n",
    "    e = a*b; e.label = 'e'\n",
    "    d = e+c; d.label = 'd'\n",
    "    f = engine.Value(-2.0, label='f')\n",
    "    L = d*f; L.label = 'L'\n",
    "    L1 = L.data\n",
    "\n",
    "    a = engine.Value(2.0, label='a')\n",
    "    b = engine.Value(-3.0, label='b')\n",
    "    b.data += h\n",
    "    c = engine.Value(10.0, label='c')\n",
    "    e = a*b; e.label = 'e'\n",
    "    # e.data += h\n",
    "    d = e+c; d.label = 'd'\n",
    "    # d.data += h\n",
    "    f = engine.Value(-2.0, label='f')\n",
    "    # f.data += h\n",
    "    L = d*f; L.label = 'L'\n",
    "    L2 = L.data\n",
    "\n",
    "    print((L2-L1)/h)\n",
    "\n",
    "grad_check_with_numerical_derivative()"
   ]
  },
  {
   "cell_type": "markdown",
   "metadata": {},
   "source": [
    "## NEURON"
   ]
  },
  {
   "cell_type": "code",
   "execution_count": 13,
   "metadata": {},
   "outputs": [
    {
     "data": {
      "image/png": "[encoded data removed]",
      "text/plain": [
       "<Figure size 432x288 with 1 Axes>"
      ]
     },
     "metadata": {
      "needs_background": "light"
     },
     "output_type": "display_data"
    }
   ],
   "source": [
    "plt.plot(np.arange(-5, 5, 0.25), np.tanh(np.arange(-5, 5, 0.25))); plt.grid()"
   ]
  },
  {
   "cell_type": "code",
   "execution_count": 98,
   "metadata": {},
   "outputs": [],
   "source": [
    "# inputs\n",
    "x1 = engine.Value(2.0, label='x1')\n",
    "x2 = engine.Value(0.0, label='x2')\n",
    "# weights\n",
    "w1 = engine.Value(-3.0, label='w1')\n",
    "w2 = engine.Value(1.0, label='w2')\n",
    "# bias\n",
    "b = engine.Value(6.88, label='b')\n",
    "\n",
    "# x1*w1 + x2*w2 + b\n",
    "x1w1 = x1 * w1; x1w1.label='x1w1'\n",
    "x2w2 = x2 * w2; x2w2.label='x2w2'\n",
    "x1w1x2w2 = x1w1 + x2w2; x1w1x2w2.label='x1w1x2w2'\n",
    "n = x1w1x2w2 + b; n.label='n'\n",
    "o = n.tanh(); o.label='o'"
   ]
  },
  {
   "cell_type": "code",
   "execution_count": 101,
   "metadata": {},
   "outputs": [
    {
     "data": {
      "image/svg+xml": "<?xml version=\"1.0\" encoding=\"UTF-8\" standalone=\"no\"?>\n<!DOCTYPE svg PUBLIC \"-//W3C//DTD SVG 1.1//EN\"\n \"http://www.w3.org/Graphics/SVG/1.1/DTD/svg11.dtd\">\n<!-- Generated by graphviz version 2.43.0 (0)\n -->\n<!-- Title: %3 Pages: 1 -->\n<svg width=\"1804pt\" height=\"210pt\"\n viewBox=\"0.00 0.00 1803.69 210.00\" xmlns=\"http://www.w3.org/2000/svg\" xmlns:xlink=\"http://www.w3.org/1999/xlink\">\n<g id=\"graph0\" class=\"graph\" transform=\"scale(1 1) rotate(0) translate(4 206)\">\n<title>%3</title>\n<polygon fill=\"white\" stroke=\"transparent\" points=\"-4,4 -4,-206 1799.69,-206 1799.69,4 -4,4\"/>\n<!-- 140400717614672 -->\n<g id=\"node1\" class=\"node\">\n<title>140400717614672</title>\n<polygon fill=\"none\" stroke=\"black\" points=\"0,-165.5 0,-201.5 249,-201.5 249,-165.5 0,-165.5\"/>\n<text text-anchor=\"middle\" x=\"19\" y=\"-179.8\" font-family=\"Times,serif\" font-size=\"14.00\">w1</text>\n<polyline fill=\"none\" stroke=\"black\" points=\"38,-165.5 38,-201.5 \"/>\n<text text-anchor=\"middle\" x=\"91.5\" y=\"-179.8\" font-family=\"Times,serif\" font-size=\"14.00\">data &#45;3.0000</text>\n<polyline fill=\"none\" stroke=\"black\" points=\"145,-165.5 145,-201.5 \"/>\n<text text-anchor=\"middle\" x=\"197\" y=\"-179.8\" font-family=\"Times,serif\" font-size=\"14.00\">grad 1.0019</text>\n</g>\n<!-- 140400717611456* -->\n<g id=\"node11\" class=\"node\">\n<title>140400717611456*</title>\n<ellipse fill=\"none\" stroke=\"black\" cx=\"312\" cy=\"-128.5\" rx=\"27\" ry=\"18\"/>\n<text text-anchor=\"middle\" x=\"312\" y=\"-124.8\" font-family=\"Times,serif\" font-size=\"14.00\">*</text>\n</g>\n<!-- 140400717614672&#45;&gt;140400717611456* -->\n<g id=\"edge14\" class=\"edge\">\n<title>140400717614672&#45;&gt;140400717611456*</title>\n<path fill=\"none\" stroke=\"black\" d=\"M218.13,-165.46C228.63,-162.77 239.1,-159.78 249,-156.5 259.71,-152.96 271.05,-148.16 281.07,-143.54\"/>\n<polygon fill=\"black\" stroke=\"black\" points=\"282.67,-146.66 290.2,-139.21 279.67,-140.33 282.67,-146.66\"/>\n</g>\n<!-- 140400717613184 -->\n<g id=\"node2\" class=\"node\">\n<title>140400717613184</title>\n<polygon fill=\"none\" stroke=\"black\" points=\"4.5,-55.5 4.5,-91.5 244.5,-91.5 244.5,-55.5 4.5,-55.5\"/>\n<text text-anchor=\"middle\" x=\"21.5\" y=\"-69.8\" font-family=\"Times,serif\" font-size=\"14.00\">x2</text>\n<polyline fill=\"none\" stroke=\"black\" points=\"38.5,-55.5 38.5,-91.5 \"/>\n<text text-anchor=\"middle\" x=\"89.5\" y=\"-69.8\" font-family=\"Times,serif\" font-size=\"14.00\">data 0.0000</text>\n<polyline fill=\"none\" stroke=\"black\" points=\"140.5,-55.5 140.5,-91.5 \"/>\n<text text-anchor=\"middle\" x=\"192.5\" y=\"-69.8\" font-family=\"Times,serif\" font-size=\"14.00\">grad 0.5010</text>\n</g>\n<!-- 140400717614960* -->\n<g id=\"node9\" class=\"node\">\n<title>140400717614960*</title>\n<ellipse fill=\"none\" stroke=\"black\" cx=\"312\" cy=\"-73.5\" rx=\"27\" ry=\"18\"/>\n<text text-anchor=\"middle\" x=\"312\" y=\"-69.8\" font-family=\"Times,serif\" font-size=\"14.00\">*</text>\n</g>\n<!-- 140400717613184&#45;&gt;140400717614960* -->\n<g id=\"edge10\" class=\"edge\">\n<title>140400717613184&#45;&gt;140400717614960*</title>\n<path fill=\"none\" stroke=\"black\" d=\"M244.55,-73.5C255.31,-73.5 265.54,-73.5 274.62,-73.5\"/>\n<polygon fill=\"black\" stroke=\"black\" points=\"274.7,-77 284.7,-73.5 274.7,-70 274.7,-77\"/>\n</g>\n<!-- 140400717612992 -->\n<g id=\"node3\" class=\"node\">\n<title>140400717612992</title>\n<polygon fill=\"none\" stroke=\"black\" points=\"803,-27.5 803,-63.5 1035,-63.5 1035,-27.5 803,-27.5\"/>\n<text text-anchor=\"middle\" x=\"816\" y=\"-41.8\" font-family=\"Times,serif\" font-size=\"14.00\">b</text>\n<polyline fill=\"none\" stroke=\"black\" points=\"829,-27.5 829,-63.5 \"/>\n<text text-anchor=\"middle\" x=\"880\" y=\"-41.8\" font-family=\"Times,serif\" font-size=\"14.00\">data 6.8800</text>\n<polyline fill=\"none\" stroke=\"black\" points=\"931,-27.5 931,-63.5 \"/>\n<text text-anchor=\"middle\" x=\"983\" y=\"-41.8\" font-family=\"Times,serif\" font-size=\"14.00\">grad 0.5010</text>\n</g>\n<!-- 140400717611888+ -->\n<g id=\"node6\" class=\"node\">\n<title>140400717611888+</title>\n<ellipse fill=\"none\" stroke=\"black\" cx=\"1134\" cy=\"-72.5\" rx=\"27\" ry=\"18\"/>\n<text text-anchor=\"middle\" x=\"1134\" y=\"-68.8\" font-family=\"Times,serif\" font-size=\"14.00\">+</text>\n</g>\n<!-- 140400717612992&#45;&gt;140400717611888+ -->\n<g id=\"edge11\" class=\"edge\">\n<title>140400717612992&#45;&gt;140400717611888+</title>\n<path fill=\"none\" stroke=\"black\" d=\"M1035.23,-60.11C1057.63,-62.95 1079.52,-65.72 1096.88,-67.92\"/>\n<polygon fill=\"black\" stroke=\"black\" points=\"1096.71,-71.43 1107.08,-69.21 1097.59,-64.48 1096.71,-71.43\"/>\n</g>\n<!-- 140400717614864 -->\n<g id=\"node4\" class=\"node\">\n<title>140400717614864</title>\n<polygon fill=\"none\" stroke=\"black\" points=\"2.5,-110.5 2.5,-146.5 246.5,-146.5 246.5,-110.5 2.5,-110.5\"/>\n<text text-anchor=\"middle\" x=\"19.5\" y=\"-124.8\" font-family=\"Times,serif\" font-size=\"14.00\">x1</text>\n<polyline fill=\"none\" stroke=\"black\" points=\"36.5,-110.5 36.5,-146.5 \"/>\n<text text-anchor=\"middle\" x=\"87.5\" y=\"-124.8\" font-family=\"Times,serif\" font-size=\"14.00\">data 2.0000</text>\n<polyline fill=\"none\" stroke=\"black\" points=\"138.5,-110.5 138.5,-146.5 \"/>\n<text text-anchor=\"middle\" x=\"192.5\" y=\"-124.8\" font-family=\"Times,serif\" font-size=\"14.00\">grad &#45;1.5029</text>\n</g>\n<!-- 140400717614864&#45;&gt;140400717611456* -->\n<g id=\"edge13\" class=\"edge\">\n<title>140400717614864&#45;&gt;140400717611456*</title>\n<path fill=\"none\" stroke=\"black\" d=\"M246.64,-128.5C256.7,-128.5 266.26,-128.5 274.79,-128.5\"/>\n<polygon fill=\"black\" stroke=\"black\" points=\"275,-132 285,-128.5 275,-125 275,-132\"/>\n</g>\n<!-- 140400717611888 -->\n<g id=\"node5\" class=\"node\">\n<title>140400717611888</title>\n<polygon fill=\"none\" stroke=\"black\" points=\"1197,-54.5 1197,-90.5 1429,-90.5 1429,-54.5 1197,-54.5\"/>\n<text text-anchor=\"middle\" x=\"1210\" y=\"-68.8\" font-family=\"Times,serif\" font-size=\"14.00\">n</text>\n<polyline fill=\"none\" stroke=\"black\" points=\"1223,-54.5 1223,-90.5 \"/>\n<text text-anchor=\"middle\" x=\"1274\" y=\"-68.8\" font-family=\"Times,serif\" font-size=\"14.00\">data 0.8800</text>\n<polyline fill=\"none\" stroke=\"black\" points=\"1325,-54.5 1325,-90.5 \"/>\n<text text-anchor=\"middle\" x=\"1377\" y=\"-68.8\" font-family=\"Times,serif\" font-size=\"14.00\">grad 0.5010</text>\n</g>\n<!-- 140400717613040tanh -->\n<g id=\"node15\" class=\"node\">\n<title>140400717613040tanh</title>\n<ellipse fill=\"none\" stroke=\"black\" cx=\"1496.85\" cy=\"-72.5\" rx=\"31.7\" ry=\"18\"/>\n<text text-anchor=\"middle\" x=\"1496.85\" y=\"-68.8\" font-family=\"Times,serif\" font-size=\"14.00\">tanh</text>\n</g>\n<!-- 140400717611888&#45;&gt;140400717613040tanh -->\n<g id=\"edge6\" class=\"edge\">\n<title>140400717611888&#45;&gt;140400717613040tanh</title>\n<path fill=\"none\" stroke=\"black\" d=\"M1429.17,-72.5C1438.08,-72.5 1446.66,-72.5 1454.53,-72.5\"/>\n<polygon fill=\"black\" stroke=\"black\" points=\"1454.78,-76 1464.78,-72.5 1454.78,-69 1454.78,-76\"/>\n</g>\n<!-- 140400717611888+&#45;&gt;140400717611888 -->\n<g id=\"edge1\" class=\"edge\">\n<title>140400717611888+&#45;&gt;140400717611888</title>\n<path fill=\"none\" stroke=\"black\" d=\"M1161.12,-72.5C1168.53,-72.5 1177.14,-72.5 1186.4,-72.5\"/>\n<polygon fill=\"black\" stroke=\"black\" points=\"1186.69,-76 1196.69,-72.5 1186.69,-69 1186.69,-76\"/>\n</g>\n<!-- 140400717613472 -->\n<g id=\"node7\" class=\"node\">\n<title>140400717613472</title>\n<polygon fill=\"none\" stroke=\"black\" points=\"2.5,-0.5 2.5,-36.5 246.5,-36.5 246.5,-0.5 2.5,-0.5\"/>\n<text text-anchor=\"middle\" x=\"21.5\" y=\"-14.8\" font-family=\"Times,serif\" font-size=\"14.00\">w2</text>\n<polyline fill=\"none\" stroke=\"black\" points=\"40.5,-0.5 40.5,-36.5 \"/>\n<text text-anchor=\"middle\" x=\"91.5\" y=\"-14.8\" font-family=\"Times,serif\" font-size=\"14.00\">data 1.0000</text>\n<polyline fill=\"none\" stroke=\"black\" points=\"142.5,-0.5 142.5,-36.5 \"/>\n<text text-anchor=\"middle\" x=\"194.5\" y=\"-14.8\" font-family=\"Times,serif\" font-size=\"14.00\">grad 0.0000</text>\n</g>\n<!-- 140400717613472&#45;&gt;140400717614960* -->\n<g id=\"edge12\" class=\"edge\">\n<title>140400717613472&#45;&gt;140400717614960*</title>\n<path fill=\"none\" stroke=\"black\" d=\"M214.42,-36.55C226.15,-39.54 237.93,-42.87 249,-46.5 259.46,-49.93 270.57,-54.47 280.46,-58.84\"/>\n<polygon fill=\"black\" stroke=\"black\" points=\"279.31,-62.17 289.87,-63.12 282.21,-55.79 279.31,-62.17\"/>\n</g>\n<!-- 140400717614960 -->\n<g id=\"node8\" class=\"node\">\n<title>140400717614960</title>\n<polygon fill=\"none\" stroke=\"black\" points=\"377.5,-55.5 377.5,-91.5 638.5,-91.5 638.5,-55.5 377.5,-55.5\"/>\n<text text-anchor=\"middle\" x=\"405\" y=\"-69.8\" font-family=\"Times,serif\" font-size=\"14.00\">x2w2</text>\n<polyline fill=\"none\" stroke=\"black\" points=\"432.5,-55.5 432.5,-91.5 \"/>\n<text text-anchor=\"middle\" x=\"483.5\" y=\"-69.8\" font-family=\"Times,serif\" font-size=\"14.00\">data 0.0000</text>\n<polyline fill=\"none\" stroke=\"black\" points=\"534.5,-55.5 534.5,-91.5 \"/>\n<text text-anchor=\"middle\" x=\"586.5\" y=\"-69.8\" font-family=\"Times,serif\" font-size=\"14.00\">grad 0.5010</text>\n</g>\n<!-- 140400717614048+ -->\n<g id=\"node13\" class=\"node\">\n<title>140400717614048+</title>\n<ellipse fill=\"none\" stroke=\"black\" cx=\"704\" cy=\"-100.5\" rx=\"27\" ry=\"18\"/>\n<text text-anchor=\"middle\" x=\"704\" y=\"-96.8\" font-family=\"Times,serif\" font-size=\"14.00\">+</text>\n</g>\n<!-- 140400717614960&#45;&gt;140400717614048+ -->\n<g id=\"edge9\" class=\"edge\">\n<title>140400717614960&#45;&gt;140400717614048+</title>\n<path fill=\"none\" stroke=\"black\" d=\"M638.4,-91.51C648.78,-92.95 658.6,-94.32 667.3,-95.53\"/>\n<polygon fill=\"black\" stroke=\"black\" points=\"666.94,-99.01 677.32,-96.93 667.9,-92.08 666.94,-99.01\"/>\n</g>\n<!-- 140400717614960*&#45;&gt;140400717614960 -->\n<g id=\"edge2\" class=\"edge\">\n<title>140400717614960*&#45;&gt;140400717614960</title>\n<path fill=\"none\" stroke=\"black\" d=\"M339.16,-73.5C347.24,-73.5 356.75,-73.5 367.07,-73.5\"/>\n<polygon fill=\"black\" stroke=\"black\" points=\"367.2,-77 377.2,-73.5 367.2,-70 367.2,-77\"/>\n</g>\n<!-- 140400717611456 -->\n<g id=\"node10\" class=\"node\">\n<title>140400717611456</title>\n<polygon fill=\"none\" stroke=\"black\" points=\"375,-110.5 375,-146.5 641,-146.5 641,-110.5 375,-110.5\"/>\n<text text-anchor=\"middle\" x=\"402.5\" y=\"-124.8\" font-family=\"Times,serif\" font-size=\"14.00\">x1w1</text>\n<polyline fill=\"none\" stroke=\"black\" points=\"430,-110.5 430,-146.5 \"/>\n<text text-anchor=\"middle\" x=\"483.5\" y=\"-124.8\" font-family=\"Times,serif\" font-size=\"14.00\">data &#45;6.0000</text>\n<polyline fill=\"none\" stroke=\"black\" points=\"537,-110.5 537,-146.5 \"/>\n<text text-anchor=\"middle\" x=\"589\" y=\"-124.8\" font-family=\"Times,serif\" font-size=\"14.00\">grad 0.5010</text>\n</g>\n<!-- 140400717611456&#45;&gt;140400717614048+ -->\n<g id=\"edge8\" class=\"edge\">\n<title>140400717611456&#45;&gt;140400717614048+</title>\n<path fill=\"none\" stroke=\"black\" d=\"M633.78,-110.49C645.77,-108.76 657.15,-107.12 667.08,-105.68\"/>\n<polygon fill=\"black\" stroke=\"black\" points=\"667.86,-109.11 677.25,-104.22 666.86,-102.18 667.86,-109.11\"/>\n</g>\n<!-- 140400717611456*&#45;&gt;140400717611456 -->\n<g id=\"edge3\" class=\"edge\">\n<title>140400717611456*&#45;&gt;140400717611456</title>\n<path fill=\"none\" stroke=\"black\" d=\"M339.16,-128.5C346.61,-128.5 355.28,-128.5 364.68,-128.5\"/>\n<polygon fill=\"black\" stroke=\"black\" points=\"364.73,-132 374.73,-128.5 364.73,-125 364.73,-132\"/>\n</g>\n<!-- 140400717614048 -->\n<g id=\"node12\" class=\"node\">\n<title>140400717614048</title>\n<polygon fill=\"none\" stroke=\"black\" points=\"767,-82.5 767,-118.5 1071,-118.5 1071,-82.5 767,-82.5\"/>\n<text text-anchor=\"middle\" x=\"813.5\" y=\"-96.8\" font-family=\"Times,serif\" font-size=\"14.00\">x1w1x2w2</text>\n<polyline fill=\"none\" stroke=\"black\" points=\"860,-82.5 860,-118.5 \"/>\n<text text-anchor=\"middle\" x=\"913.5\" y=\"-96.8\" font-family=\"Times,serif\" font-size=\"14.00\">data &#45;6.0000</text>\n<polyline fill=\"none\" stroke=\"black\" points=\"967,-82.5 967,-118.5 \"/>\n<text text-anchor=\"middle\" x=\"1019\" y=\"-96.8\" font-family=\"Times,serif\" font-size=\"14.00\">grad 0.5010</text>\n</g>\n<!-- 140400717614048&#45;&gt;140400717611888+ -->\n<g id=\"edge7\" class=\"edge\">\n<title>140400717614048&#45;&gt;140400717611888+</title>\n<path fill=\"none\" stroke=\"black\" d=\"M1057,-82.49C1071.6,-80.57 1085.35,-78.76 1097.05,-77.23\"/>\n<polygon fill=\"black\" stroke=\"black\" points=\"1097.71,-80.67 1107.17,-75.9 1096.8,-73.73 1097.71,-80.67\"/>\n</g>\n<!-- 140400717614048+&#45;&gt;140400717614048 -->\n<g id=\"edge4\" class=\"edge\">\n<title>140400717614048+&#45;&gt;140400717614048</title>\n<path fill=\"none\" stroke=\"black\" d=\"M731.12,-100.5C738.54,-100.5 747.2,-100.5 756.66,-100.5\"/>\n<polygon fill=\"black\" stroke=\"black\" points=\"756.79,-104 766.79,-100.5 756.79,-97 756.79,-104\"/>\n</g>\n<!-- 140400717613040 -->\n<g id=\"node14\" class=\"node\">\n<title>140400717613040</title>\n<polygon fill=\"none\" stroke=\"black\" points=\"1564.69,-54.5 1564.69,-90.5 1795.69,-90.5 1795.69,-54.5 1564.69,-54.5\"/>\n<text text-anchor=\"middle\" x=\"1577.19\" y=\"-68.8\" font-family=\"Times,serif\" font-size=\"14.00\">o</text>\n<polyline fill=\"none\" stroke=\"black\" points=\"1589.69,-54.5 1589.69,-90.5 \"/>\n<text text-anchor=\"middle\" x=\"1640.69\" y=\"-68.8\" font-family=\"Times,serif\" font-size=\"14.00\">data 0.7064</text>\n<polyline fill=\"none\" stroke=\"black\" points=\"1691.69,-54.5 1691.69,-90.5 \"/>\n<text text-anchor=\"middle\" x=\"1743.69\" y=\"-68.8\" font-family=\"Times,serif\" font-size=\"14.00\">grad 1.0000</text>\n</g>\n<!-- 140400717613040tanh&#45;&gt;140400717613040 -->\n<g id=\"edge5\" class=\"edge\">\n<title>140400717613040tanh&#45;&gt;140400717613040</title>\n<path fill=\"none\" stroke=\"black\" d=\"M1529.02,-72.5C1536.61,-72.5 1545.19,-72.5 1554.31,-72.5\"/>\n<polygon fill=\"black\" stroke=\"black\" points=\"1554.4,-76 1564.4,-72.5 1554.4,-69 1554.4,-76\"/>\n</g>\n</g>\n</svg>\n",
      "text/plain": [
       "<graphviz.graphs.Digraph at 0x7fb196e17dc0>"
      ]
     },
     "execution_count": 101,
     "metadata": {},
     "output_type": "execute_result"
    }
   ],
   "source": [
    "draw_dot(o)"
   ]
  },
  {
   "cell_type": "code",
   "execution_count": 84,
   "metadata": {},
   "outputs": [],
   "source": [
    "# Manual backprop\n",
    "o.grad = 1.0\n",
    "o._backward()\n",
    "n._backward()\n",
    "x1w1x2w2._backward()\n",
    "b._backward()\n",
    "x1w1._backward()\n",
    "x2w2._backward()"
   ]
  },
  {
   "cell_type": "code",
   "execution_count": 100,
   "metadata": {},
   "outputs": [],
   "source": [
    "o.backward()"
   ]
  },
  {
   "cell_type": "markdown",
   "metadata": {},
   "source": [
    "## Breaking up Tanh"
   ]
  },
  {
   "cell_type": "code",
   "execution_count": 46,
   "metadata": {},
   "outputs": [],
   "source": [
    "# inputs\n",
    "x1 = engine.Value(2.0, label='x1')\n",
    "x2 = engine.Value(0.0, label='x2')\n",
    "# weights\n",
    "w1 = engine.Value(-3.0, label='w1')\n",
    "w2 = engine.Value(1.0, label='w2')\n",
    "# bias\n",
    "b = engine.Value(6.88, label='b')\n",
    "\n",
    "# x1*w1 + x2*w2 + b\n",
    "x1w1 = x1 * w1; x1w1.label='x1w1'\n",
    "x2w2 = x2 * w2; x2w2.label='x2w2'\n",
    "x1w1x2w2 = x1w1 + x2w2; x1w1x2w2.label='x1w1x2w2'\n",
    "n = x1w1x2w2 + b; n.label='n'\n",
    "# -----------\n",
    "# o = n.tanh(); o.label='o'\n",
    "e = (2*n).exp(); e.label = 'e'\n",
    "o = (e - 1) / (e + 1); o.label='o'\n",
    "# -----------"
   ]
  },
  {
   "cell_type": "code",
   "execution_count": 47,
   "metadata": {},
   "outputs": [
    {
     "data": {
      "image/svg+xml": "<?xml version=\"1.0\" encoding=\"UTF-8\" standalone=\"no\"?>\n<!DOCTYPE svg PUBLIC \"-//W3C//DTD SVG 1.1//EN\"\n \"http://www.w3.org/Graphics/SVG/1.1/DTD/svg11.dtd\">\n<!-- Generated by graphviz version 2.43.0 (0)\n -->\n<!-- Title: %3 Pages: 1 -->\n<svg width=\"3389pt\" height=\"236pt\"\n viewBox=\"0.00 0.00 3388.60 236.00\" xmlns=\"http://www.w3.org/2000/svg\" xmlns:xlink=\"http://www.w3.org/1999/xlink\">\n<g id=\"graph0\" class=\"graph\" transform=\"scale(1 1) rotate(0) translate(4 232)\">\n<title>%3</title>\n<polygon fill=\"white\" stroke=\"transparent\" points=\"-4,4 -4,-232 3384.6,-232 3384.6,4 -4,4\"/>\n<!-- 140541308466704 -->\n<g id=\"node1\" class=\"node\">\n<title>140541308466704</title>\n<polygon fill=\"none\" stroke=\"black\" points=\"1199.5,-164.5 1199.5,-200.5 1426.5,-200.5 1426.5,-164.5 1199.5,-164.5\"/>\n<text text-anchor=\"middle\" x=\"1210\" y=\"-178.8\" font-family=\"Times,serif\" font-size=\"14.00\"> </text>\n<polyline fill=\"none\" stroke=\"black\" points=\"1220.5,-164.5 1220.5,-200.5 \"/>\n<text text-anchor=\"middle\" x=\"1271.5\" y=\"-178.8\" font-family=\"Times,serif\" font-size=\"14.00\">data 2.0000</text>\n<polyline fill=\"none\" stroke=\"black\" points=\"1322.5,-164.5 1322.5,-200.5 \"/>\n<text text-anchor=\"middle\" x=\"1374.5\" y=\"-178.8\" font-family=\"Times,serif\" font-size=\"14.00\">grad 0.2204</text>\n</g>\n<!-- 140541308467856* -->\n<g id=\"node10\" class=\"node\">\n<title>140541308467856*</title>\n<ellipse fill=\"none\" stroke=\"black\" cx=\"1492\" cy=\"-154.5\" rx=\"27\" ry=\"18\"/>\n<text text-anchor=\"middle\" x=\"1492\" y=\"-150.8\" font-family=\"Times,serif\" font-size=\"14.00\">*</text>\n</g>\n<!-- 140541308466704&#45;&gt;140541308467856* -->\n<g id=\"edge25\" class=\"edge\">\n<title>140541308466704&#45;&gt;140541308467856*</title>\n<path fill=\"none\" stroke=\"black\" d=\"M1426.6,-164.69C1436.87,-163.06 1446.68,-161.51 1455.4,-160.13\"/>\n<polygon fill=\"black\" stroke=\"black\" points=\"1456.14,-163.56 1465.47,-158.54 1455.04,-156.64 1456.14,-163.56\"/>\n</g>\n<!-- 140541308468240 -->\n<g id=\"node2\" class=\"node\">\n<title>140541308468240</title>\n<polygon fill=\"none\" stroke=\"black\" points=\"375,-110.5 375,-146.5 641,-146.5 641,-110.5 375,-110.5\"/>\n<text text-anchor=\"middle\" x=\"402.5\" y=\"-124.8\" font-family=\"Times,serif\" font-size=\"14.00\">x1w1</text>\n<polyline fill=\"none\" stroke=\"black\" points=\"430,-110.5 430,-146.5 \"/>\n<text text-anchor=\"middle\" x=\"483.5\" y=\"-124.8\" font-family=\"Times,serif\" font-size=\"14.00\">data &#45;6.0000</text>\n<polyline fill=\"none\" stroke=\"black\" points=\"537,-110.5 537,-146.5 \"/>\n<text text-anchor=\"middle\" x=\"589\" y=\"-124.8\" font-family=\"Times,serif\" font-size=\"14.00\">grad 0.5010</text>\n</g>\n<!-- 140541308469152+ -->\n<g id=\"node24\" class=\"node\">\n<title>140541308469152+</title>\n<ellipse fill=\"none\" stroke=\"black\" cx=\"704\" cy=\"-100.5\" rx=\"27\" ry=\"18\"/>\n<text text-anchor=\"middle\" x=\"704\" y=\"-96.8\" font-family=\"Times,serif\" font-size=\"14.00\">+</text>\n</g>\n<!-- 140541308468240&#45;&gt;140541308469152+ -->\n<g id=\"edge26\" class=\"edge\">\n<title>140541308468240&#45;&gt;140541308469152+</title>\n<path fill=\"none\" stroke=\"black\" d=\"M633.78,-110.49C645.77,-108.76 657.15,-107.12 667.08,-105.68\"/>\n<polygon fill=\"black\" stroke=\"black\" points=\"667.86,-109.11 677.25,-104.22 666.86,-102.18 667.86,-109.11\"/>\n</g>\n<!-- 140541308468240* -->\n<g id=\"node3\" class=\"node\">\n<title>140541308468240*</title>\n<ellipse fill=\"none\" stroke=\"black\" cx=\"312\" cy=\"-128.5\" rx=\"27\" ry=\"18\"/>\n<text text-anchor=\"middle\" x=\"312\" y=\"-124.8\" font-family=\"Times,serif\" font-size=\"14.00\">*</text>\n</g>\n<!-- 140541308468240*&#45;&gt;140541308468240 -->\n<g id=\"edge1\" class=\"edge\">\n<title>140541308468240*&#45;&gt;140541308468240</title>\n<path fill=\"none\" stroke=\"black\" d=\"M339.16,-128.5C346.61,-128.5 355.28,-128.5 364.68,-128.5\"/>\n<polygon fill=\"black\" stroke=\"black\" points=\"364.73,-132 374.73,-128.5 364.73,-125 364.73,-132\"/>\n</g>\n<!-- 140541308786720 -->\n<g id=\"node4\" class=\"node\">\n<title>140541308786720</title>\n<polygon fill=\"none\" stroke=\"black\" points=\"1909.1,-191.5 1909.1,-227.5 2140.1,-227.5 2140.1,-191.5 1909.1,-191.5\"/>\n<text text-anchor=\"middle\" x=\"1919.6\" y=\"-205.8\" font-family=\"Times,serif\" font-size=\"14.00\"> </text>\n<polyline fill=\"none\" stroke=\"black\" points=\"1930.1,-191.5 1930.1,-227.5 \"/>\n<text text-anchor=\"middle\" x=\"1981.1\" y=\"-205.8\" font-family=\"Times,serif\" font-size=\"14.00\">data 1.0000</text>\n<polyline fill=\"none\" stroke=\"black\" points=\"2032.1,-191.5 2032.1,-227.5 \"/>\n<text text-anchor=\"middle\" x=\"2086.1\" y=\"-205.8\" font-family=\"Times,serif\" font-size=\"14.00\">grad &#45;0.1037</text>\n</g>\n<!-- 140541308788544+ -->\n<g id=\"node20\" class=\"node\">\n<title>140541308788544+</title>\n<ellipse fill=\"none\" stroke=\"black\" cx=\"2203.6\" cy=\"-181.5\" rx=\"27\" ry=\"18\"/>\n<text text-anchor=\"middle\" x=\"2203.6\" y=\"-177.8\" font-family=\"Times,serif\" font-size=\"14.00\">+</text>\n</g>\n<!-- 140541308786720&#45;&gt;140541308788544+ -->\n<g id=\"edge22\" class=\"edge\">\n<title>140541308786720&#45;&gt;140541308788544+</title>\n<path fill=\"none\" stroke=\"black\" d=\"M2139.69,-191.45C2149.48,-189.9 2158.8,-188.43 2167.14,-187.11\"/>\n<polygon fill=\"black\" stroke=\"black\" points=\"2167.79,-190.55 2177.12,-185.53 2166.69,-183.64 2167.79,-190.55\"/>\n</g>\n<!-- 140541308466752 -->\n<g id=\"node5\" class=\"node\">\n<title>140541308466752</title>\n<polygon fill=\"none\" stroke=\"black\" points=\"1197,-109.5 1197,-145.5 1429,-145.5 1429,-109.5 1197,-109.5\"/>\n<text text-anchor=\"middle\" x=\"1210\" y=\"-123.8\" font-family=\"Times,serif\" font-size=\"14.00\">n</text>\n<polyline fill=\"none\" stroke=\"black\" points=\"1223,-109.5 1223,-145.5 \"/>\n<text text-anchor=\"middle\" x=\"1274\" y=\"-123.8\" font-family=\"Times,serif\" font-size=\"14.00\">data 0.8800</text>\n<polyline fill=\"none\" stroke=\"black\" points=\"1325,-109.5 1325,-145.5 \"/>\n<text text-anchor=\"middle\" x=\"1377\" y=\"-123.8\" font-family=\"Times,serif\" font-size=\"14.00\">grad 0.5010</text>\n</g>\n<!-- 140541308466752&#45;&gt;140541308467856* -->\n<g id=\"edge27\" class=\"edge\">\n<title>140541308466752&#45;&gt;140541308467856*</title>\n<path fill=\"none\" stroke=\"black\" d=\"M1429.09,-145.06C1438.46,-146.49 1447.39,-147.85 1455.4,-149.07\"/>\n<polygon fill=\"black\" stroke=\"black\" points=\"1454.96,-152.54 1465.37,-150.59 1456.01,-145.62 1454.96,-152.54\"/>\n</g>\n<!-- 140541308466752+ -->\n<g id=\"node6\" class=\"node\">\n<title>140541308466752+</title>\n<ellipse fill=\"none\" stroke=\"black\" cx=\"1134\" cy=\"-127.5\" rx=\"27\" ry=\"18\"/>\n<text text-anchor=\"middle\" x=\"1134\" y=\"-123.8\" font-family=\"Times,serif\" font-size=\"14.00\">+</text>\n</g>\n<!-- 140541308466752+&#45;&gt;140541308466752 -->\n<g id=\"edge2\" class=\"edge\">\n<title>140541308466752+&#45;&gt;140541308466752</title>\n<path fill=\"none\" stroke=\"black\" d=\"M1161.12,-127.5C1168.53,-127.5 1177.14,-127.5 1186.4,-127.5\"/>\n<polygon fill=\"black\" stroke=\"black\" points=\"1186.69,-131 1196.69,-127.5 1186.69,-124 1186.69,-131\"/>\n</g>\n<!-- 140541308468816 -->\n<g id=\"node7\" class=\"node\">\n<title>140541308468816</title>\n<polygon fill=\"none\" stroke=\"black\" points=\"2.5,-165.5 2.5,-201.5 246.5,-201.5 246.5,-165.5 2.5,-165.5\"/>\n<text text-anchor=\"middle\" x=\"19.5\" y=\"-179.8\" font-family=\"Times,serif\" font-size=\"14.00\">x1</text>\n<polyline fill=\"none\" stroke=\"black\" points=\"36.5,-165.5 36.5,-201.5 \"/>\n<text text-anchor=\"middle\" x=\"87.5\" y=\"-179.8\" font-family=\"Times,serif\" font-size=\"14.00\">data 2.0000</text>\n<polyline fill=\"none\" stroke=\"black\" points=\"138.5,-165.5 138.5,-201.5 \"/>\n<text text-anchor=\"middle\" x=\"192.5\" y=\"-179.8\" font-family=\"Times,serif\" font-size=\"14.00\">grad &#45;1.5029</text>\n</g>\n<!-- 140541308468816&#45;&gt;140541308468240* -->\n<g id=\"edge19\" class=\"edge\">\n<title>140541308468816&#45;&gt;140541308468240*</title>\n<path fill=\"none\" stroke=\"black\" d=\"M218.13,-165.46C228.63,-162.77 239.1,-159.78 249,-156.5 259.71,-152.96 271.05,-148.16 281.07,-143.54\"/>\n<polygon fill=\"black\" stroke=\"black\" points=\"282.67,-146.66 290.2,-139.21 279.67,-140.33 282.67,-146.66\"/>\n</g>\n<!-- 140541308468864 -->\n<g id=\"node8\" class=\"node\">\n<title>140541308468864</title>\n<polygon fill=\"none\" stroke=\"black\" points=\"0,-110.5 0,-146.5 249,-146.5 249,-110.5 0,-110.5\"/>\n<text text-anchor=\"middle\" x=\"19\" y=\"-124.8\" font-family=\"Times,serif\" font-size=\"14.00\">w1</text>\n<polyline fill=\"none\" stroke=\"black\" points=\"38,-110.5 38,-146.5 \"/>\n<text text-anchor=\"middle\" x=\"91.5\" y=\"-124.8\" font-family=\"Times,serif\" font-size=\"14.00\">data &#45;3.0000</text>\n<polyline fill=\"none\" stroke=\"black\" points=\"145,-110.5 145,-146.5 \"/>\n<text text-anchor=\"middle\" x=\"197\" y=\"-124.8\" font-family=\"Times,serif\" font-size=\"14.00\">grad 1.0019</text>\n</g>\n<!-- 140541308468864&#45;&gt;140541308468240* -->\n<g id=\"edge15\" class=\"edge\">\n<title>140541308468864&#45;&gt;140541308468240*</title>\n<path fill=\"none\" stroke=\"black\" d=\"M249.23,-128.5C258.37,-128.5 267.05,-128.5 274.87,-128.5\"/>\n<polygon fill=\"black\" stroke=\"black\" points=\"274.95,-132 284.95,-128.5 274.95,-125 274.95,-132\"/>\n</g>\n<!-- 140541308467856 -->\n<g id=\"node9\" class=\"node\">\n<title>140541308467856</title>\n<polygon fill=\"none\" stroke=\"black\" points=\"1555,-136.5 1555,-172.5 1782,-172.5 1782,-136.5 1555,-136.5\"/>\n<text text-anchor=\"middle\" x=\"1565.5\" y=\"-150.8\" font-family=\"Times,serif\" font-size=\"14.00\"> </text>\n<polyline fill=\"none\" stroke=\"black\" points=\"1576,-136.5 1576,-172.5 \"/>\n<text text-anchor=\"middle\" x=\"1627\" y=\"-150.8\" font-family=\"Times,serif\" font-size=\"14.00\">data 1.7600</text>\n<polyline fill=\"none\" stroke=\"black\" points=\"1678,-136.5 1678,-172.5 \"/>\n<text text-anchor=\"middle\" x=\"1730\" y=\"-150.8\" font-family=\"Times,serif\" font-size=\"14.00\">grad 0.2505</text>\n</g>\n<!-- 140541308469008exp -->\n<g id=\"node17\" class=\"node\">\n<title>140541308469008exp</title>\n<ellipse fill=\"none\" stroke=\"black\" cx=\"1845.3\" cy=\"-154.5\" rx=\"27.1\" ry=\"18\"/>\n<text text-anchor=\"middle\" x=\"1845.3\" y=\"-150.8\" font-family=\"Times,serif\" font-size=\"14.00\">exp</text>\n</g>\n<!-- 140541308467856&#45;&gt;140541308469008exp -->\n<g id=\"edge21\" class=\"edge\">\n<title>140541308467856&#45;&gt;140541308469008exp</title>\n<path fill=\"none\" stroke=\"black\" d=\"M1782.18,-154.5C1791.26,-154.5 1799.95,-154.5 1807.79,-154.5\"/>\n<polygon fill=\"black\" stroke=\"black\" points=\"1807.93,-158 1817.93,-154.5 1807.93,-151 1807.93,-158\"/>\n</g>\n<!-- 140541308467856*&#45;&gt;140541308467856 -->\n<g id=\"edge3\" class=\"edge\">\n<title>140541308467856*&#45;&gt;140541308467856</title>\n<path fill=\"none\" stroke=\"black\" d=\"M1519.12,-154.5C1526.67,-154.5 1535.45,-154.5 1544.9,-154.5\"/>\n<polygon fill=\"black\" stroke=\"black\" points=\"1544.95,-158 1554.95,-154.5 1544.95,-151 1544.95,-158\"/>\n</g>\n<!-- 140541308468672 -->\n<g id=\"node11\" class=\"node\">\n<title>140541308468672</title>\n<polygon fill=\"none\" stroke=\"black\" points=\"2.5,-55.5 2.5,-91.5 246.5,-91.5 246.5,-55.5 2.5,-55.5\"/>\n<text text-anchor=\"middle\" x=\"21.5\" y=\"-69.8\" font-family=\"Times,serif\" font-size=\"14.00\">w2</text>\n<polyline fill=\"none\" stroke=\"black\" points=\"40.5,-55.5 40.5,-91.5 \"/>\n<text text-anchor=\"middle\" x=\"91.5\" y=\"-69.8\" font-family=\"Times,serif\" font-size=\"14.00\">data 1.0000</text>\n<polyline fill=\"none\" stroke=\"black\" points=\"142.5,-55.5 142.5,-91.5 \"/>\n<text text-anchor=\"middle\" x=\"194.5\" y=\"-69.8\" font-family=\"Times,serif\" font-size=\"14.00\">grad 0.0000</text>\n</g>\n<!-- 140541308469056* -->\n<g id=\"node22\" class=\"node\">\n<title>140541308469056*</title>\n<ellipse fill=\"none\" stroke=\"black\" cx=\"312\" cy=\"-73.5\" rx=\"27\" ry=\"18\"/>\n<text text-anchor=\"middle\" x=\"312\" y=\"-69.8\" font-family=\"Times,serif\" font-size=\"14.00\">*</text>\n</g>\n<!-- 140541308468672&#45;&gt;140541308469056* -->\n<g id=\"edge12\" class=\"edge\">\n<title>140541308468672&#45;&gt;140541308469056*</title>\n<path fill=\"none\" stroke=\"black\" d=\"M246.64,-73.5C256.7,-73.5 266.26,-73.5 274.79,-73.5\"/>\n<polygon fill=\"black\" stroke=\"black\" points=\"275,-77 285,-73.5 275,-70 275,-77\"/>\n</g>\n<!-- 140541308468912 -->\n<g id=\"node12\" class=\"node\">\n<title>140541308468912</title>\n<polygon fill=\"none\" stroke=\"black\" points=\"803,-137.5 803,-173.5 1035,-173.5 1035,-137.5 803,-137.5\"/>\n<text text-anchor=\"middle\" x=\"816\" y=\"-151.8\" font-family=\"Times,serif\" font-size=\"14.00\">b</text>\n<polyline fill=\"none\" stroke=\"black\" points=\"829,-137.5 829,-173.5 \"/>\n<text text-anchor=\"middle\" x=\"880\" y=\"-151.8\" font-family=\"Times,serif\" font-size=\"14.00\">data 6.8800</text>\n<polyline fill=\"none\" stroke=\"black\" points=\"931,-137.5 931,-173.5 \"/>\n<text text-anchor=\"middle\" x=\"983\" y=\"-151.8\" font-family=\"Times,serif\" font-size=\"14.00\">grad 0.5010</text>\n</g>\n<!-- 140541308468912&#45;&gt;140541308466752+ -->\n<g id=\"edge17\" class=\"edge\">\n<title>140541308468912&#45;&gt;140541308466752+</title>\n<path fill=\"none\" stroke=\"black\" d=\"M1035.23,-140.35C1057.63,-137.41 1079.52,-134.53 1096.88,-132.25\"/>\n<polygon fill=\"black\" stroke=\"black\" points=\"1097.62,-135.68 1107.08,-130.91 1096.7,-128.74 1097.62,-135.68\"/>\n</g>\n<!-- 140541308788400 -->\n<g id=\"node13\" class=\"node\">\n<title>140541308788400</title>\n<polygon fill=\"none\" stroke=\"black\" points=\"1908.6,-81.5 1908.6,-117.5 2140.6,-117.5 2140.6,-81.5 1908.6,-81.5\"/>\n<text text-anchor=\"middle\" x=\"1919.1\" y=\"-95.8\" font-family=\"Times,serif\" font-size=\"14.00\"> </text>\n<polyline fill=\"none\" stroke=\"black\" points=\"1929.6,-81.5 1929.6,-117.5 \"/>\n<text text-anchor=\"middle\" x=\"1983.1\" y=\"-95.8\" font-family=\"Times,serif\" font-size=\"14.00\">data &#45;1.0000</text>\n<polyline fill=\"none\" stroke=\"black\" points=\"2036.6,-81.5 2036.6,-117.5 \"/>\n<text text-anchor=\"middle\" x=\"2088.6\" y=\"-95.8\" font-family=\"Times,serif\" font-size=\"14.00\">grad 0.1468</text>\n</g>\n<!-- 140541308787152+ -->\n<g id=\"node28\" class=\"node\">\n<title>140541308787152+</title>\n<ellipse fill=\"none\" stroke=\"black\" cx=\"2203.6\" cy=\"-126.5\" rx=\"27\" ry=\"18\"/>\n<text text-anchor=\"middle\" x=\"2203.6\" y=\"-122.8\" font-family=\"Times,serif\" font-size=\"14.00\">+</text>\n</g>\n<!-- 140541308788400&#45;&gt;140541308787152+ -->\n<g id=\"edge11\" class=\"edge\">\n<title>140541308788400&#45;&gt;140541308787152+</title>\n<path fill=\"none\" stroke=\"black\" d=\"M2140.69,-117.06C2150.05,-118.49 2158.98,-119.85 2167,-121.07\"/>\n<polygon fill=\"black\" stroke=\"black\" points=\"2166.55,-124.54 2176.96,-122.59 2167.61,-117.62 2166.55,-124.54\"/>\n</g>\n<!-- 140541309205760 -->\n<g id=\"node14\" class=\"node\">\n<title>140541309205760</title>\n<polygon fill=\"none\" stroke=\"black\" points=\"2796.6,-161.5 2796.6,-197.5 3023.6,-197.5 3023.6,-161.5 2796.6,-161.5\"/>\n<text text-anchor=\"middle\" x=\"2807.1\" y=\"-175.8\" font-family=\"Times,serif\" font-size=\"14.00\"> </text>\n<polyline fill=\"none\" stroke=\"black\" points=\"2817.6,-161.5 2817.6,-197.5 \"/>\n<text text-anchor=\"middle\" x=\"2868.6\" y=\"-175.8\" font-family=\"Times,serif\" font-size=\"14.00\">data 0.1468</text>\n<polyline fill=\"none\" stroke=\"black\" points=\"2919.6,-161.5 2919.6,-197.5 \"/>\n<text text-anchor=\"middle\" x=\"2971.6\" y=\"-175.8\" font-family=\"Times,serif\" font-size=\"14.00\">grad 4.8124</text>\n</g>\n<!-- 140541308577728* -->\n<g id=\"node26\" class=\"node\">\n<title>140541308577728*</title>\n<ellipse fill=\"none\" stroke=\"black\" cx=\"3086.6\" cy=\"-153.5\" rx=\"27\" ry=\"18\"/>\n<text text-anchor=\"middle\" x=\"3086.6\" y=\"-149.8\" font-family=\"Times,serif\" font-size=\"14.00\">*</text>\n</g>\n<!-- 140541309205760&#45;&gt;140541308577728* -->\n<g id=\"edge28\" class=\"edge\">\n<title>140541309205760&#45;&gt;140541308577728*</title>\n<path fill=\"none\" stroke=\"black\" d=\"M3024.07,-162.67C3033.37,-161.28 3042.23,-159.96 3050.2,-158.77\"/>\n<polygon fill=\"black\" stroke=\"black\" points=\"3050.73,-162.23 3060.1,-157.3 3049.7,-155.31 3050.73,-162.23\"/>\n</g>\n<!-- 140541309205760**&#45;1 -->\n<g id=\"node15\" class=\"node\">\n<title>140541309205760**&#45;1</title>\n<ellipse fill=\"none\" stroke=\"black\" cx=\"2647.1\" cy=\"-181.5\" rx=\"28.7\" ry=\"18\"/>\n<text text-anchor=\"middle\" x=\"2647.1\" y=\"-177.8\" font-family=\"Times,serif\" font-size=\"14.00\">**&#45;1</text>\n</g>\n<!-- 140541309205760**&#45;1&#45;&gt;140541309205760 -->\n<g id=\"edge4\" class=\"edge\">\n<title>140541309205760**&#45;1&#45;&gt;140541309205760</title>\n<path fill=\"none\" stroke=\"black\" d=\"M2676.03,-181.29C2702.75,-181.08 2744.99,-180.76 2786.21,-180.44\"/>\n<polygon fill=\"black\" stroke=\"black\" points=\"2786.4,-183.94 2796.37,-180.36 2786.35,-176.94 2786.4,-183.94\"/>\n</g>\n<!-- 140541308469008 -->\n<g id=\"node16\" class=\"node\">\n<title>140541308469008</title>\n<polygon fill=\"none\" stroke=\"black\" points=\"1909.1,-136.5 1909.1,-172.5 2140.1,-172.5 2140.1,-136.5 1909.1,-136.5\"/>\n<text text-anchor=\"middle\" x=\"1921.6\" y=\"-150.8\" font-family=\"Times,serif\" font-size=\"14.00\">e</text>\n<polyline fill=\"none\" stroke=\"black\" points=\"1934.1,-136.5 1934.1,-172.5 \"/>\n<text text-anchor=\"middle\" x=\"1985.1\" y=\"-150.8\" font-family=\"Times,serif\" font-size=\"14.00\">data 5.8124</text>\n<polyline fill=\"none\" stroke=\"black\" points=\"2036.1,-136.5 2036.1,-172.5 \"/>\n<text text-anchor=\"middle\" x=\"2088.1\" y=\"-150.8\" font-family=\"Times,serif\" font-size=\"14.00\">grad 0.0431</text>\n</g>\n<!-- 140541308469008&#45;&gt;140541308788544+ -->\n<g id=\"edge14\" class=\"edge\">\n<title>140541308469008&#45;&gt;140541308788544+</title>\n<path fill=\"none\" stroke=\"black\" d=\"M2140.19,-171.98C2149.71,-173.43 2158.79,-174.82 2166.93,-176.06\"/>\n<polygon fill=\"black\" stroke=\"black\" points=\"2166.63,-179.55 2177.04,-177.6 2167.68,-172.63 2166.63,-179.55\"/>\n</g>\n<!-- 140541308469008&#45;&gt;140541308787152+ -->\n<g id=\"edge18\" class=\"edge\">\n<title>140541308469008&#45;&gt;140541308787152+</title>\n<path fill=\"none\" stroke=\"black\" d=\"M2139.69,-136.45C2149.48,-134.9 2158.8,-133.43 2167.14,-132.11\"/>\n<polygon fill=\"black\" stroke=\"black\" points=\"2167.79,-135.55 2177.12,-130.53 2166.69,-128.64 2167.79,-135.55\"/>\n</g>\n<!-- 140541308469008exp&#45;&gt;140541308469008 -->\n<g id=\"edge5\" class=\"edge\">\n<title>140541308469008exp&#45;&gt;140541308469008</title>\n<path fill=\"none\" stroke=\"black\" d=\"M1872.84,-154.5C1880.44,-154.5 1889.26,-154.5 1898.76,-154.5\"/>\n<polygon fill=\"black\" stroke=\"black\" points=\"1898.87,-158 1908.87,-154.5 1898.87,-151 1898.87,-158\"/>\n</g>\n<!-- 140541308466944 -->\n<g id=\"node18\" class=\"node\">\n<title>140541308466944</title>\n<polygon fill=\"none\" stroke=\"black\" points=\"4.5,-0.5 4.5,-36.5 244.5,-36.5 244.5,-0.5 4.5,-0.5\"/>\n<text text-anchor=\"middle\" x=\"21.5\" y=\"-14.8\" font-family=\"Times,serif\" font-size=\"14.00\">x2</text>\n<polyline fill=\"none\" stroke=\"black\" points=\"38.5,-0.5 38.5,-36.5 \"/>\n<text text-anchor=\"middle\" x=\"89.5\" y=\"-14.8\" font-family=\"Times,serif\" font-size=\"14.00\">data 0.0000</text>\n<polyline fill=\"none\" stroke=\"black\" points=\"140.5,-0.5 140.5,-36.5 \"/>\n<text text-anchor=\"middle\" x=\"192.5\" y=\"-14.8\" font-family=\"Times,serif\" font-size=\"14.00\">grad 0.5010</text>\n</g>\n<!-- 140541308466944&#45;&gt;140541308469056* -->\n<g id=\"edge24\" class=\"edge\">\n<title>140541308466944&#45;&gt;140541308469056*</title>\n<path fill=\"none\" stroke=\"black\" d=\"M218.13,-36.54C228.63,-39.23 239.1,-42.22 249,-45.5 259.71,-49.04 271.05,-53.84 281.07,-58.46\"/>\n<polygon fill=\"black\" stroke=\"black\" points=\"279.67,-61.67 290.2,-62.79 282.67,-55.34 279.67,-61.67\"/>\n</g>\n<!-- 140541308788544 -->\n<g id=\"node19\" class=\"node\">\n<title>140541308788544</title>\n<polygon fill=\"none\" stroke=\"black\" points=\"2266.6,-163.5 2266.6,-199.5 2497.6,-199.5 2497.6,-163.5 2266.6,-163.5\"/>\n<text text-anchor=\"middle\" x=\"2277.1\" y=\"-177.8\" font-family=\"Times,serif\" font-size=\"14.00\"> </text>\n<polyline fill=\"none\" stroke=\"black\" points=\"2287.6,-163.5 2287.6,-199.5 \"/>\n<text text-anchor=\"middle\" x=\"2338.6\" y=\"-177.8\" font-family=\"Times,serif\" font-size=\"14.00\">data 6.8124</text>\n<polyline fill=\"none\" stroke=\"black\" points=\"2389.6,-163.5 2389.6,-199.5 \"/>\n<text text-anchor=\"middle\" x=\"2443.6\" y=\"-177.8\" font-family=\"Times,serif\" font-size=\"14.00\">grad &#45;0.1037</text>\n</g>\n<!-- 140541308788544&#45;&gt;140541309205760**&#45;1 -->\n<g id=\"edge20\" class=\"edge\">\n<title>140541308788544&#45;&gt;140541309205760**&#45;1</title>\n<path fill=\"none\" stroke=\"black\" d=\"M2497.69,-181.5C2537.38,-181.5 2579.17,-181.5 2608.25,-181.5\"/>\n<polygon fill=\"black\" stroke=\"black\" points=\"2608.37,-185 2618.37,-181.5 2608.37,-178 2608.37,-185\"/>\n</g>\n<!-- 140541308788544+&#45;&gt;140541308788544 -->\n<g id=\"edge6\" class=\"edge\">\n<title>140541308788544+&#45;&gt;140541308788544</title>\n<path fill=\"none\" stroke=\"black\" d=\"M2230.64,-181.5C2238.18,-181.5 2246.96,-181.5 2256.41,-181.5\"/>\n<polygon fill=\"black\" stroke=\"black\" points=\"2256.49,-185 2266.49,-181.5 2256.49,-178 2256.49,-185\"/>\n</g>\n<!-- 140541308469056 -->\n<g id=\"node21\" class=\"node\">\n<title>140541308469056</title>\n<polygon fill=\"none\" stroke=\"black\" points=\"377.5,-55.5 377.5,-91.5 638.5,-91.5 638.5,-55.5 377.5,-55.5\"/>\n<text text-anchor=\"middle\" x=\"405\" y=\"-69.8\" font-family=\"Times,serif\" font-size=\"14.00\">x2w2</text>\n<polyline fill=\"none\" stroke=\"black\" points=\"432.5,-55.5 432.5,-91.5 \"/>\n<text text-anchor=\"middle\" x=\"483.5\" y=\"-69.8\" font-family=\"Times,serif\" font-size=\"14.00\">data 0.0000</text>\n<polyline fill=\"none\" stroke=\"black\" points=\"534.5,-55.5 534.5,-91.5 \"/>\n<text text-anchor=\"middle\" x=\"586.5\" y=\"-69.8\" font-family=\"Times,serif\" font-size=\"14.00\">grad 0.5010</text>\n</g>\n<!-- 140541308469056&#45;&gt;140541308469152+ -->\n<g id=\"edge23\" class=\"edge\">\n<title>140541308469056&#45;&gt;140541308469152+</title>\n<path fill=\"none\" stroke=\"black\" d=\"M638.4,-91.51C648.78,-92.95 658.6,-94.32 667.3,-95.53\"/>\n<polygon fill=\"black\" stroke=\"black\" points=\"666.94,-99.01 677.32,-96.93 667.9,-92.08 666.94,-99.01\"/>\n</g>\n<!-- 140541308469056*&#45;&gt;140541308469056 -->\n<g id=\"edge7\" class=\"edge\">\n<title>140541308469056*&#45;&gt;140541308469056</title>\n<path fill=\"none\" stroke=\"black\" d=\"M339.16,-73.5C347.24,-73.5 356.75,-73.5 367.07,-73.5\"/>\n<polygon fill=\"black\" stroke=\"black\" points=\"367.2,-77 377.2,-73.5 367.2,-70 367.2,-77\"/>\n</g>\n<!-- 140541308469152 -->\n<g id=\"node23\" class=\"node\">\n<title>140541308469152</title>\n<polygon fill=\"none\" stroke=\"black\" points=\"767,-82.5 767,-118.5 1071,-118.5 1071,-82.5 767,-82.5\"/>\n<text text-anchor=\"middle\" x=\"813.5\" y=\"-96.8\" font-family=\"Times,serif\" font-size=\"14.00\">x1w1x2w2</text>\n<polyline fill=\"none\" stroke=\"black\" points=\"860,-82.5 860,-118.5 \"/>\n<text text-anchor=\"middle\" x=\"913.5\" y=\"-96.8\" font-family=\"Times,serif\" font-size=\"14.00\">data &#45;6.0000</text>\n<polyline fill=\"none\" stroke=\"black\" points=\"967,-82.5 967,-118.5 \"/>\n<text text-anchor=\"middle\" x=\"1019\" y=\"-96.8\" font-family=\"Times,serif\" font-size=\"14.00\">grad 0.5010</text>\n</g>\n<!-- 140541308469152&#45;&gt;140541308466752+ -->\n<g id=\"edge13\" class=\"edge\">\n<title>140541308469152&#45;&gt;140541308466752+</title>\n<path fill=\"none\" stroke=\"black\" d=\"M1062.07,-118.51C1074.76,-120.12 1086.69,-121.63 1097.01,-122.94\"/>\n<polygon fill=\"black\" stroke=\"black\" points=\"1096.79,-126.44 1107.15,-124.22 1097.67,-119.49 1096.79,-126.44\"/>\n</g>\n<!-- 140541308469152+&#45;&gt;140541308469152 -->\n<g id=\"edge8\" class=\"edge\">\n<title>140541308469152+&#45;&gt;140541308469152</title>\n<path fill=\"none\" stroke=\"black\" d=\"M731.12,-100.5C738.54,-100.5 747.2,-100.5 756.66,-100.5\"/>\n<polygon fill=\"black\" stroke=\"black\" points=\"756.79,-104 766.79,-100.5 756.79,-97 756.79,-104\"/>\n</g>\n<!-- 140541308577728 -->\n<g id=\"node25\" class=\"node\">\n<title>140541308577728</title>\n<polygon fill=\"none\" stroke=\"black\" points=\"3149.6,-135.5 3149.6,-171.5 3380.6,-171.5 3380.6,-135.5 3149.6,-135.5\"/>\n<text text-anchor=\"middle\" x=\"3162.1\" y=\"-149.8\" font-family=\"Times,serif\" font-size=\"14.00\">o</text>\n<polyline fill=\"none\" stroke=\"black\" points=\"3174.6,-135.5 3174.6,-171.5 \"/>\n<text text-anchor=\"middle\" x=\"3225.6\" y=\"-149.8\" font-family=\"Times,serif\" font-size=\"14.00\">data 0.7064</text>\n<polyline fill=\"none\" stroke=\"black\" points=\"3276.6,-135.5 3276.6,-171.5 \"/>\n<text text-anchor=\"middle\" x=\"3328.6\" y=\"-149.8\" font-family=\"Times,serif\" font-size=\"14.00\">grad 1.0000</text>\n</g>\n<!-- 140541308577728*&#45;&gt;140541308577728 -->\n<g id=\"edge9\" class=\"edge\">\n<title>140541308577728*&#45;&gt;140541308577728</title>\n<path fill=\"none\" stroke=\"black\" d=\"M3113.64,-153.5C3121.18,-153.5 3129.96,-153.5 3139.41,-153.5\"/>\n<polygon fill=\"black\" stroke=\"black\" points=\"3139.49,-157 3149.49,-153.5 3139.49,-150 3139.49,-157\"/>\n</g>\n<!-- 140541308787152 -->\n<g id=\"node27\" class=\"node\">\n<title>140541308787152</title>\n<polygon fill=\"none\" stroke=\"black\" points=\"2533.6,-108.5 2533.6,-144.5 2760.6,-144.5 2760.6,-108.5 2533.6,-108.5\"/>\n<text text-anchor=\"middle\" x=\"2544.1\" y=\"-122.8\" font-family=\"Times,serif\" font-size=\"14.00\"> </text>\n<polyline fill=\"none\" stroke=\"black\" points=\"2554.6,-108.5 2554.6,-144.5 \"/>\n<text text-anchor=\"middle\" x=\"2605.6\" y=\"-122.8\" font-family=\"Times,serif\" font-size=\"14.00\">data 4.8124</text>\n<polyline fill=\"none\" stroke=\"black\" points=\"2656.6,-108.5 2656.6,-144.5 \"/>\n<text text-anchor=\"middle\" x=\"2708.6\" y=\"-122.8\" font-family=\"Times,serif\" font-size=\"14.00\">grad 0.1468</text>\n</g>\n<!-- 140541308787152&#45;&gt;140541308577728* -->\n<g id=\"edge16\" class=\"edge\">\n<title>140541308787152&#45;&gt;140541308577728*</title>\n<path fill=\"none\" stroke=\"black\" d=\"M2760.76,-133.45C2856.02,-139.33 2986.68,-147.4 3049.28,-151.26\"/>\n<polygon fill=\"black\" stroke=\"black\" points=\"3049.24,-154.76 3059.44,-151.89 3049.68,-147.78 3049.24,-154.76\"/>\n</g>\n<!-- 140541308787152+&#45;&gt;140541308787152 -->\n<g id=\"edge10\" class=\"edge\">\n<title>140541308787152+&#45;&gt;140541308787152</title>\n<path fill=\"none\" stroke=\"black\" d=\"M2230.89,-126.5C2287.16,-126.5 2422.31,-126.5 2523.23,-126.5\"/>\n<polygon fill=\"black\" stroke=\"black\" points=\"2523.5,-130 2533.5,-126.5 2523.5,-123 2523.5,-130\"/>\n</g>\n</g>\n</svg>\n",
      "text/plain": [
       "<graphviz.graphs.Digraph at 0x7fd252cf9fa0>"
      ]
     },
     "execution_count": 47,
     "metadata": {},
     "output_type": "execute_result"
    }
   ],
   "source": [
    "o.backward()\n",
    "draw_dot(o)"
   ]
  },
  {
   "cell_type": "markdown",
   "metadata": {},
   "source": [
    "## Do With PyTorch"
   ]
  },
  {
   "cell_type": "code",
   "execution_count": 48,
   "metadata": {},
   "outputs": [],
   "source": [
    "import torch"
   ]
  },
  {
   "cell_type": "code",
   "execution_count": 54,
   "metadata": {},
   "outputs": [
    {
     "name": "stdout",
     "output_type": "stream",
     "text": [
      "0.7064193777288968\n",
      "x1: -1.5029149883073543\n",
      "w1: 1.0019433255382362\n",
      "x2: 0.5009716627691181\n",
      "w2: 0.0\n"
     ]
    }
   ],
   "source": [
    "x1 = torch.Tensor([2.0]).double(); x1.requires_grad = True\n",
    "x2 = torch.Tensor([0.0]).double(); x2.requires_grad = True\n",
    "w1 = torch.Tensor([-3.0]).double(); w1.requires_grad = True\n",
    "w2 = torch.Tensor([1.0]).double(); w2.requires_grad = True\n",
    "b = torch.Tensor([6.88]).double(); b.requires_grad = True\n",
    "n = x1*w1 + x2*w2 + b\n",
    "o = torch.tanh(n)\n",
    "\n",
    "o.backward()\n",
    "print(o.data.item())\n",
    "\n",
    "print('x1:', x1.grad.item())\n",
    "print('w1:', w1.grad.item())\n",
    "print('x2:', x2.grad.item())\n",
    "print('w2:', w2.grad.item())"
   ]
  }
 ],
 "metadata": {
  "interpreter": {
   "hash": "916dbcbb3f70747c44a77c7bcd40155683ae19c65e1c03b4aa3499c5328201f1"
  },
  "kernelspec": {
   "display_name": "Python 3.8.10 64-bit",
   "language": "python",
   "name": "python3"
  },
  "language_info": {
   "codemirror_mode": {
    "name": "ipython",
    "version": 3
   },
   "file_extension": ".py",
   "mimetype": "text/x-python",
   "name": "python",
   "nbconvert_exporter": "python",
   "pygments_lexer": "ipython3",
   "version": "3.8.10"
  },
  "orig_nbformat": 4
 },
 "nbformat": 4,
 "nbformat_minor": 2
}
